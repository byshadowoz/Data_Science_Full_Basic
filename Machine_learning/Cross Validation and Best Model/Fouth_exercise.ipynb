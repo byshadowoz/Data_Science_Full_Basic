{
 "cells": [
  {
   "cell_type": "markdown",
   "id": "bef0909a-3b54-4f60-b685-53f4c0ab91ed",
   "metadata": {},
   "source": [
    "# Fourth Exercise\n",
    "***\n",
    "with unsupervised model"
   ]
  },
  {
   "cell_type": "code",
   "execution_count": 15,
   "id": "92160666-d6ac-468f-a6e4-169e2627f70f",
   "metadata": {},
   "outputs": [],
   "source": [
    "import pandas as pd \n",
    "import numpy as np\n",
    "import matplotlib.pyplot as plt\n",
    "from sklearn.cluster import KMeans\n",
    "from sklearn.datasets import load_iris\n",
    "from sklearn.model_selection import KFold\n",
    "from sklearn.metrics import silhouette_score\n",
    "from sklearn.preprocessing import StandardScaler"
   ]
  },
  {
   "cell_type": "markdown",
   "id": "8e4fca7e-adf1-4004-9f4e-be298259c5fc",
   "metadata": {},
   "source": [
    "## we load the data\n",
    "(we assume that the iris data is already cleaned)"
   ]
  },
  {
   "cell_type": "code",
   "execution_count": 16,
   "id": "340d0371-dda3-41fe-bf6d-1509adcbb615",
   "metadata": {},
   "outputs": [
    {
     "data": {
      "text/plain": [
       "['DESCR',\n",
       " 'data',\n",
       " 'data_module',\n",
       " 'feature_names',\n",
       " 'filename',\n",
       " 'frame',\n",
       " 'target',\n",
       " 'target_names']"
      ]
     },
     "execution_count": 16,
     "metadata": {},
     "output_type": "execute_result"
    }
   ],
   "source": [
    "iris = load_iris()\n",
    "dir(iris)"
   ]
  },
  {
   "cell_type": "code",
   "execution_count": 24,
   "id": "5be332f8-c902-439e-8ee9-99639740d7f2",
   "metadata": {
    "scrolled": true
   },
   "outputs": [],
   "source": [
    "X = iris.data"
   ]
  },
  {
   "cell_type": "markdown",
   "id": "49d9bd56-b8db-438a-93be-4b461a5c9d85",
   "metadata": {},
   "source": [
    "## prepare cross validation and silhouette metric"
   ]
  },
  {
   "cell_type": "code",
   "execution_count": 28,
   "id": "29edf563-7626-4303-b241-b085dbcfd535",
   "metadata": {},
   "outputs": [],
   "source": [
    "kf = KFold(n_splits=5, shuffle=True, random_state=42)\n",
    "silhouette_scores = []"
   ]
  },
  {
   "cell_type": "markdown",
   "id": "795da0e8-6bc3-493b-a2a3-e996214c8206",
   "metadata": {},
   "source": [
    "## Make cross validation with Kfold and find the best silhouette score\n",
    "The Silhouette Score is a metric used to evaluate the quality of clustering results in data clustering. It measures the separation between clusters and the similarity within clusters"
   ]
  },
  {
   "cell_type": "code",
   "execution_count": 29,
   "id": "f38f0f8a-d235-4193-aff6-0821f89f729c",
   "metadata": {},
   "outputs": [],
   "source": [
    "for train_index, test_index in kf.split(X_scaled):\n",
    "    X_train, X_test = X[train_index], X[test_index]\n",
    "    kmeans= KMeans(n_clusters=3, random_state=42)\n",
    "    kmeans.fit(X_train)\n",
    "    labels = kmeans.predict(X_test)\n",
    "\n",
    "    silhouette_avg = silhouette_score(X_test, labels)\n",
    "    silhouette_scores.append(silhouette_avg)\n"
   ]
  },
  {
   "cell_type": "code",
   "execution_count": 30,
   "id": "6299aa3e-c7cc-46fd-a5e3-d8909d547a50",
   "metadata": {},
   "outputs": [
    {
     "name": "stdout",
     "output_type": "stream",
     "text": [
      "silhoutte score per partition [0.5801360521740062, 0.6263525139842205, 0.522007013764911, 0.5071123656460358, 0.5505036648410199]\n",
      "silhoutte score avg 0.5572223220820387\n"
     ]
    }
   ],
   "source": [
    "print(f'silhoutte score per partition {silhouette_scores}')\n",
    "print(f'silhoutte score avg {np.mean(silhouette_scores)}')"
   ]
  },
  {
   "cell_type": "code",
   "execution_count": null,
   "id": "039a6ec6-5ea2-4ae1-9799-41c7ca99d1c8",
   "metadata": {},
   "outputs": [],
   "source": []
  }
 ],
 "metadata": {
  "kernelspec": {
   "display_name": "Python 3 (ipykernel)",
   "language": "python",
   "name": "python3"
  },
  "language_info": {
   "codemirror_mode": {
    "name": "ipython",
    "version": 3
   },
   "file_extension": ".py",
   "mimetype": "text/x-python",
   "name": "python",
   "nbconvert_exporter": "python",
   "pygments_lexer": "ipython3",
   "version": "3.11.5"
  },
  "widgets": {
   "application/vnd.jupyter.widget-state+json": {
    "state": {},
    "version_major": 2,
    "version_minor": 0
   }
  }
 },
 "nbformat": 4,
 "nbformat_minor": 5
}
