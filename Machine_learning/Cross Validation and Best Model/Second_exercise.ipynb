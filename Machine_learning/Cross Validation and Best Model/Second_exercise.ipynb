{
 "cells": [
  {
   "cell_type": "markdown",
   "id": "e4069267-8a6c-4759-b0e7-193634b02d5e",
   "metadata": {},
   "source": [
    "# Second Exercise\n",
    "***\n",
    "## Importing libraries and loading the diabetes dataset"
   ]
  },
  {
   "cell_type": "code",
   "execution_count": 1,
   "id": "0a400438-3d69-40b9-8c38-19a613c90754",
   "metadata": {},
   "outputs": [],
   "source": [
    "from sklearn.datasets import load_diabetes\n",
    "import pandas as pd \n",
    "import numpy as np"
   ]
  },
  {
   "cell_type": "code",
   "execution_count": 36,
   "id": "d6d51505-7b6c-4e5d-a4a6-63863d53580f",
   "metadata": {},
   "outputs": [],
   "source": [
    "from sklearn.metrics import r2_score, mean_squared_error\n",
    "from sklearn.linear_model import LinearRegression, Ridge, Lasso\n",
    "from sklearn.ensemble import RandomForestRegressor\n",
    "from sklearn.svm import SVR\n",
    "from sklearn.model_selection import train_test_split, cross_val_score, KFold\n",
    "from sklearn.preprocessing import StandardScaler\n",
    "from sklearn.decomposition import PCA\n",
    "from sklearn.model_selection import GridSearchCV"
   ]
  },
  {
   "cell_type": "code",
   "execution_count": 3,
   "id": "2ee76095-5f70-47d3-9f3a-8d34832509fb",
   "metadata": {},
   "outputs": [],
   "source": [
    "diabetes = load_diabetes()"
   ]
  },
  {
   "cell_type": "code",
   "execution_count": 4,
   "id": "865e3790-0f24-4cd0-ac13-80ea03e7eade",
   "metadata": {},
   "outputs": [],
   "source": [
    "df = pd.DataFrame(diabetes.data, columns=diabetes.feature_names)\n",
    "target = diabetes.target"
   ]
  },
  {
   "cell_type": "code",
   "execution_count": 5,
   "id": "ca266a41-47a0-4750-a8bb-ce1ed246edfe",
   "metadata": {},
   "outputs": [
    {
     "name": "stdout",
     "output_type": "stream",
     "text": [
      "<class 'pandas.core.frame.DataFrame'>\n",
      "RangeIndex: 442 entries, 0 to 441\n",
      "Data columns (total 10 columns):\n",
      " #   Column  Non-Null Count  Dtype  \n",
      "---  ------  --------------  -----  \n",
      " 0   age     442 non-null    float64\n",
      " 1   sex     442 non-null    float64\n",
      " 2   bmi     442 non-null    float64\n",
      " 3   bp      442 non-null    float64\n",
      " 4   s1      442 non-null    float64\n",
      " 5   s2      442 non-null    float64\n",
      " 6   s3      442 non-null    float64\n",
      " 7   s4      442 non-null    float64\n",
      " 8   s5      442 non-null    float64\n",
      " 9   s6      442 non-null    float64\n",
      "dtypes: float64(10)\n",
      "memory usage: 34.7 KB\n"
     ]
    }
   ],
   "source": [
    "df.info()"
   ]
  },
  {
   "cell_type": "markdown",
   "id": "4a955b18-9890-41bb-9093-10b9ca15ba26",
   "metadata": {},
   "source": [
    "## Apply scaling in all the values\n",
    "(even if they seen already scaled)"
   ]
  },
  {
   "cell_type": "code",
   "execution_count": 55,
   "id": "e976b890-4f36-4541-93d8-ecff8ee70217",
   "metadata": {},
   "outputs": [],
   "source": [
    "X = df.copy()\n",
    "scaler = StandardScaler()\n",
    "X_scaled = scaler.fit_transform(X)\n",
    "pca = PCA(0.95)\n",
    "X_pca = pca.fit_transform(X_scaled)\n",
    "y = target"
   ]
  },
  {
   "cell_type": "code",
   "execution_count": 56,
   "id": "00b46472-7191-46a4-849a-395574c2e24b",
   "metadata": {},
   "outputs": [
    {
     "data": {
      "text/plain": [
       "(442, 8)"
      ]
     },
     "execution_count": 56,
     "metadata": {},
     "output_type": "execute_result"
    }
   ],
   "source": [
    "X_pca.shape"
   ]
  },
  {
   "cell_type": "code",
   "execution_count": 57,
   "id": "77903d41-3aff-4845-bc53-e93d30d4584a",
   "metadata": {},
   "outputs": [
    {
     "data": {
      "text/plain": [
       "(442, 10)"
      ]
     },
     "execution_count": 57,
     "metadata": {},
     "output_type": "execute_result"
    }
   ],
   "source": [
    "X_scaled.shape"
   ]
  },
  {
   "cell_type": "markdown",
   "id": "b078aa16-db10-4f6e-a16d-a84e9881d692",
   "metadata": {},
   "source": [
    "## Now create a function to find the best data organization training with cross validation"
   ]
  },
  {
   "cell_type": "code",
   "execution_count": 7,
   "id": "9d30483f-da93-482a-b930-72e19dc77067",
   "metadata": {},
   "outputs": [],
   "source": [
    "def find_best_R_Model(model, X, y):\n",
    "    vals = cross_val_score(model, X, y, cv=5)\n",
    "    kf = KFold(n_splits=5, shuffle=False)\n",
    "    X_train, X_test, y_train, y_test = None, None, None, None\n",
    "    \n",
    "    \n",
    "    best_ac = vals[0]\n",
    "    p=0\n",
    "    for i in range(1, len(vals)):\n",
    "        if best_ac < vals[i]:\n",
    "            best_ac, p = vals[i], i\n",
    "            \n",
    "    for fold_index, (train_index, test_index) in enumerate(kf.split(X_scaled)):\n",
    "        if fold_index == p:\n",
    "            X_train, X_test = X_scaled[train_index], X_scaled[test_index]\n",
    "            y_train, y_test = y[train_index], y[test_index]\n",
    "            break\n",
    "    \n",
    "    ML = model.fit(X_train, y_train)\n",
    "    y_pred = ML.predict(X_test)\n",
    "    df_res = pd.DataFrame({'y_pred': y_pred, 'y_test':y_test})\n",
    "    print(f'The best model has an accuracy of {best_ac}')\n",
    "    return ML, df_res"
   ]
  },
  {
   "cell_type": "markdown",
   "id": "cd6a7077-8b4f-467d-99c4-33f1ccca264d",
   "metadata": {},
   "source": [
    "## Now manually use the function with diferents models until find the best one"
   ]
  },
  {
   "cell_type": "code",
   "execution_count": 58,
   "id": "5420e5d7-8f9d-4f4b-a476-aa5a9d6d20db",
   "metadata": {
    "scrolled": true
   },
   "outputs": [
    {
     "name": "stdout",
     "output_type": "stream",
     "text": [
      "The best model has an accuracy of 0.5485373610813955\n",
      "alpha =1\n",
      "The best model has an accuracy of 0.5357060678852317\n",
      "alpha =51\n",
      "The best model has an accuracy of 0.5245858518291606\n",
      "alpha =101\n",
      "The best model has an accuracy of 0.5120733850136825\n",
      "alpha =151\n",
      "The best model has an accuracy of 0.4991864694815885\n",
      "alpha =201\n",
      "The best model has an accuracy of 0.48643852956039835\n",
      "alpha =251\n",
      "The best model has an accuracy of 0.47407467153756644\n",
      "alpha =301\n",
      "The best model has an accuracy of 0.4622033050841695\n",
      "alpha =351\n",
      "The best model has an accuracy of 0.45086249360170905\n",
      "alpha =401\n",
      "The best model has an accuracy of 0.4400540399120674\n",
      "alpha =451\n",
      "The best model has an accuracy of 0.42976143020446966\n",
      "alpha =501\n",
      "The best model has an accuracy of 0.4199594519260217\n",
      "alpha =551\n",
      "The best model has an accuracy of 0.41061939273299375\n",
      "alpha =601\n",
      "The best model has an accuracy of 0.4017241366957719\n",
      "alpha =651\n",
      "The best model has an accuracy of 0.3933479863928647\n",
      "alpha =701\n",
      "The best model has an accuracy of 0.3861919249322233\n",
      "alpha =751\n",
      "The best model has an accuracy of 0.38021636339840037\n",
      "alpha =801\n",
      "The best model has an accuracy of 0.3743573943548696\n",
      "alpha =851\n",
      "The best model has an accuracy of 0.36862082182203293\n",
      "alpha =901\n",
      "The best model has an accuracy of 0.36301003210450933\n",
      "alpha =951\n"
     ]
    }
   ],
   "source": [
    "for n in range(1, 1000, 50):\n",
    "    find_best_R_Model(Ridge(alpha=n), X_scaled, y)\n",
    "    print(f'alpha ={n}')"
   ]
  },
  {
   "cell_type": "code",
   "execution_count": 59,
   "id": "1c88345e-25bb-4a2a-b301-0a1013e53abd",
   "metadata": {},
   "outputs": [
    {
     "name": "stdout",
     "output_type": "stream",
     "text": [
      "The best model has an accuracy of 0.5475554255992466\n"
     ]
    },
    {
     "data": {
      "text/plain": [
       "(Lasso(alpha=0.1),\n",
       "         y_pred  y_test\n",
       " 0   193.214191   272.0\n",
       " 1   132.546883    60.0\n",
       " 2    92.014934    54.0\n",
       " 3   198.369825   221.0\n",
       " 4    57.022838    90.0\n",
       " ..         ...     ...\n",
       " 83  189.961941   178.0\n",
       " 84  103.340345   104.0\n",
       " 85  122.859336   132.0\n",
       " 86  209.093838   220.0\n",
       " 87   51.950161    57.0\n",
       " \n",
       " [88 rows x 2 columns])"
      ]
     },
     "execution_count": 59,
     "metadata": {},
     "output_type": "execute_result"
    }
   ],
   "source": [
    "find_best_R_Model(Lasso(alpha=0.1), X_scaled, y)"
   ]
  },
  {
   "cell_type": "code",
   "execution_count": 60,
   "id": "f7229714-3c0e-4a93-9010-f52a5c6a88b6",
   "metadata": {},
   "outputs": [
    {
     "name": "stdout",
     "output_type": "stream",
     "text": [
      "The best model has an accuracy of 0.5502483366517519\n"
     ]
    },
    {
     "data": {
      "text/plain": [
       "(LinearRegression(),\n",
       "         y_pred  y_test\n",
       " 0   191.426638   272.0\n",
       " 1   133.050924    60.0\n",
       " 2    91.974891    54.0\n",
       " 3   198.853295   221.0\n",
       " 4    54.991185    90.0\n",
       " ..         ...     ...\n",
       " 83  190.315527   178.0\n",
       " 84  102.829586   104.0\n",
       " 85  121.909659   132.0\n",
       " 86  209.997683   220.0\n",
       " 87   53.805908    57.0\n",
       " \n",
       " [88 rows x 2 columns])"
      ]
     },
     "execution_count": 60,
     "metadata": {},
     "output_type": "execute_result"
    }
   ],
   "source": [
    "find_best_R_Model(LinearRegression(), X_scaled, y)"
   ]
  },
  {
   "cell_type": "code",
   "execution_count": 62,
   "id": "415b6641-5d93-4fe0-a70a-9528f37a20be",
   "metadata": {},
   "outputs": [
    {
     "name": "stdout",
     "output_type": "stream",
     "text": [
      "Mejores parámetros: {'C': 100, 'gamma': 0.01, 'kernel': 'rbf'}\n",
      "Mejor modelo: SVR(C=100, gamma=0.01)\n",
      "Mejor puntuación: 0.492289724463051\n",
      "The best model has an accuracy of 0.549791630890502\n"
     ]
    },
    {
     "data": {
      "text/plain": [
       "(SVR(C=100, gamma=0.01),\n",
       "         y_pred  y_test\n",
       " 0   201.587839   272.0\n",
       " 1   112.636412    60.0\n",
       " 2    80.480533    54.0\n",
       " 3   177.510130   221.0\n",
       " 4    70.461327    90.0\n",
       " ..         ...     ...\n",
       " 83  188.080820   178.0\n",
       " 84   98.633282   104.0\n",
       " 85  113.751034   132.0\n",
       " 86  196.851921   220.0\n",
       " 87   70.863577    57.0\n",
       " \n",
       " [88 rows x 2 columns])"
      ]
     },
     "execution_count": 62,
     "metadata": {},
     "output_type": "execute_result"
    }
   ],
   "source": [
    "params_grid = {'C': [0.001, 0.01, 0.1, 1, 10, 100],\n",
    "          'gamma': [0.0001, 0.001, 0.01, 0.1],\n",
    "          'kernel':['linear','rbf'] }\n",
    "\n",
    "svr = SVR()\n",
    "grid_search = GridSearchCV(svr, params_grid, cv=5, n_jobs=-1)\n",
    "\n",
    "grid_search.fit(X_scaled, y)\n",
    "\n",
    "best_model = grid_search.best_estimator_\n",
    "best_params = grid_search.best_params_\n",
    "best_score = grid_search.best_score_\n",
    "\n",
    "print(\"Mejores parámetros:\", best_params)\n",
    "print(\"Mejor modelo:\", best_model)\n",
    "print(\"Mejor puntuación:\", best_score)\n",
    "\n",
    "find_best_R_Model(SVR(C=100, gamma=0.01, kernel='rbf'), X_scaled, y)"
   ]
  },
  {
   "cell_type": "code",
   "execution_count": 64,
   "id": "41983d91-aa06-4355-b930-f67bea4d151e",
   "metadata": {},
   "outputs": [
    {
     "name": "stdout",
     "output_type": "stream",
     "text": [
      "The best model has an accuracy of 0.5011297461174233\n"
     ]
    },
    {
     "data": {
      "text/plain": [
       "(RandomForestRegressor(),\n",
       "     y_pred  y_test\n",
       " 0    80.84   111.0\n",
       " 1    82.35    98.0\n",
       " 2   147.13   164.0\n",
       " 3   163.58    48.0\n",
       " 4    73.44    96.0\n",
       " ..     ...     ...\n",
       " 84  105.45   101.0\n",
       " 85  177.77   151.0\n",
       " 86  121.82   127.0\n",
       " 87  173.15   237.0\n",
       " 88  210.66   225.0\n",
       " \n",
       " [89 rows x 2 columns])"
      ]
     },
     "execution_count": 64,
     "metadata": {},
     "output_type": "execute_result"
    }
   ],
   "source": [
    "find_best_R_Model(RandomForestRegressor(), X_scaled, y)"
   ]
  },
  {
   "cell_type": "code",
   "execution_count": null,
   "id": "32c07856-490c-4cf1-8d77-693ce19e9d92",
   "metadata": {},
   "outputs": [],
   "source": []
  }
 ],
 "metadata": {
  "kernelspec": {
   "display_name": "analise_data",
   "language": "python",
   "name": "analise_data"
  },
  "language_info": {
   "codemirror_mode": {
    "name": "ipython",
    "version": 3
   },
   "file_extension": ".py",
   "mimetype": "text/x-python",
   "name": "python",
   "nbconvert_exporter": "python",
   "pygments_lexer": "ipython3",
   "version": "3.10.12"
  },
  "widgets": {
   "application/vnd.jupyter.widget-state+json": {
    "state": {},
    "version_major": 2,
    "version_minor": 0
   }
  }
 },
 "nbformat": 4,
 "nbformat_minor": 5
}
