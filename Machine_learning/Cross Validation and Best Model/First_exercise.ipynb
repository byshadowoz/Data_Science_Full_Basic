{
 "cells": [
  {
   "cell_type": "markdown",
   "id": "0411fa87-f49c-496e-9401-10aa830272e0",
   "metadata": {},
   "source": [
    "## Import & Load the data"
   ]
  },
  {
   "cell_type": "code",
   "execution_count": 1,
   "id": "94de24a1-23b2-414a-97f3-829fa882c000",
   "metadata": {},
   "outputs": [],
   "source": [
    "import pandas as pd\n",
    "import numpy as np\n",
    "from sklearn.decomposition import PCA\n",
    "from sklearn.model_selection import train_test_split\n",
    "import scipy.stats as stats"
   ]
  },
  {
   "cell_type": "code",
   "execution_count": 2,
   "id": "7ba7d313-210e-4da9-91f9-1f24ee7d5f50",
   "metadata": {},
   "outputs": [
    {
     "data": {
      "text/html": [
       "<div>\n",
       "<style scoped>\n",
       "    .dataframe tbody tr th:only-of-type {\n",
       "        vertical-align: middle;\n",
       "    }\n",
       "\n",
       "    .dataframe tbody tr th {\n",
       "        vertical-align: top;\n",
       "    }\n",
       "\n",
       "    .dataframe thead th {\n",
       "        text-align: right;\n",
       "    }\n",
       "</style>\n",
       "<table border=\"1\" class=\"dataframe\">\n",
       "  <thead>\n",
       "    <tr style=\"text-align: right;\">\n",
       "      <th></th>\n",
       "      <th>Age</th>\n",
       "      <th>Sex</th>\n",
       "      <th>ChestPainType</th>\n",
       "      <th>RestingBP</th>\n",
       "      <th>Cholesterol</th>\n",
       "      <th>FastingBS</th>\n",
       "      <th>RestingECG</th>\n",
       "      <th>MaxHR</th>\n",
       "      <th>ExerciseAngina</th>\n",
       "      <th>Oldpeak</th>\n",
       "      <th>ST_Slope</th>\n",
       "      <th>HeartDisease</th>\n",
       "    </tr>\n",
       "  </thead>\n",
       "  <tbody>\n",
       "    <tr>\n",
       "      <th>0</th>\n",
       "      <td>40</td>\n",
       "      <td>M</td>\n",
       "      <td>ATA</td>\n",
       "      <td>140</td>\n",
       "      <td>289</td>\n",
       "      <td>0</td>\n",
       "      <td>Normal</td>\n",
       "      <td>172</td>\n",
       "      <td>N</td>\n",
       "      <td>0.0</td>\n",
       "      <td>Up</td>\n",
       "      <td>0</td>\n",
       "    </tr>\n",
       "    <tr>\n",
       "      <th>1</th>\n",
       "      <td>49</td>\n",
       "      <td>F</td>\n",
       "      <td>NAP</td>\n",
       "      <td>160</td>\n",
       "      <td>180</td>\n",
       "      <td>0</td>\n",
       "      <td>Normal</td>\n",
       "      <td>156</td>\n",
       "      <td>N</td>\n",
       "      <td>1.0</td>\n",
       "      <td>Flat</td>\n",
       "      <td>1</td>\n",
       "    </tr>\n",
       "    <tr>\n",
       "      <th>2</th>\n",
       "      <td>37</td>\n",
       "      <td>M</td>\n",
       "      <td>ATA</td>\n",
       "      <td>130</td>\n",
       "      <td>283</td>\n",
       "      <td>0</td>\n",
       "      <td>ST</td>\n",
       "      <td>98</td>\n",
       "      <td>N</td>\n",
       "      <td>0.0</td>\n",
       "      <td>Up</td>\n",
       "      <td>0</td>\n",
       "    </tr>\n",
       "    <tr>\n",
       "      <th>3</th>\n",
       "      <td>48</td>\n",
       "      <td>F</td>\n",
       "      <td>ASY</td>\n",
       "      <td>138</td>\n",
       "      <td>214</td>\n",
       "      <td>0</td>\n",
       "      <td>Normal</td>\n",
       "      <td>108</td>\n",
       "      <td>Y</td>\n",
       "      <td>1.5</td>\n",
       "      <td>Flat</td>\n",
       "      <td>1</td>\n",
       "    </tr>\n",
       "    <tr>\n",
       "      <th>4</th>\n",
       "      <td>54</td>\n",
       "      <td>M</td>\n",
       "      <td>NAP</td>\n",
       "      <td>150</td>\n",
       "      <td>195</td>\n",
       "      <td>0</td>\n",
       "      <td>Normal</td>\n",
       "      <td>122</td>\n",
       "      <td>N</td>\n",
       "      <td>0.0</td>\n",
       "      <td>Up</td>\n",
       "      <td>0</td>\n",
       "    </tr>\n",
       "  </tbody>\n",
       "</table>\n",
       "</div>"
      ],
      "text/plain": [
       "   Age Sex ChestPainType  RestingBP  Cholesterol  FastingBS RestingECG  MaxHR  \\\n",
       "0   40   M           ATA        140          289          0     Normal    172   \n",
       "1   49   F           NAP        160          180          0     Normal    156   \n",
       "2   37   M           ATA        130          283          0         ST     98   \n",
       "3   48   F           ASY        138          214          0     Normal    108   \n",
       "4   54   M           NAP        150          195          0     Normal    122   \n",
       "\n",
       "  ExerciseAngina  Oldpeak ST_Slope  HeartDisease  \n",
       "0              N      0.0       Up             0  \n",
       "1              N      1.0     Flat             1  \n",
       "2              N      0.0       Up             0  \n",
       "3              Y      1.5     Flat             1  \n",
       "4              N      0.0       Up             0  "
      ]
     },
     "execution_count": 2,
     "metadata": {},
     "output_type": "execute_result"
    }
   ],
   "source": [
    "df = pd.read_csv('heart.csv')\n",
    "df.head()"
   ]
  },
  {
   "cell_type": "code",
   "execution_count": 3,
   "id": "c6f66f0a-5c7b-4c71-90ca-c7b05cc86af5",
   "metadata": {},
   "outputs": [
    {
     "data": {
      "text/plain": [
       "array([0, 1])"
      ]
     },
     "execution_count": 3,
     "metadata": {},
     "output_type": "execute_result"
    }
   ],
   "source": [
    "df.HeartDisease.unique()"
   ]
  },
  {
   "cell_type": "markdown",
   "id": "82610bb5-5b6e-4fa1-a90f-59db18e9b2f3",
   "metadata": {},
   "source": [
    "## We use Classification models"
   ]
  },
  {
   "cell_type": "code",
   "execution_count": 15,
   "id": "aae4d2e9-5abd-4d4a-b0b5-02e440ef3e2e",
   "metadata": {},
   "outputs": [],
   "source": [
    "from sklearn.neighbors import KNeighborsClassifier\n",
    "from sklearn.svm import SVC\n",
    "from sklearn.ensemble import RandomForestClassifier\n",
    "from sklearn.tree import DecisionTreeClassifier\n",
    "from sklearn.linear_model import LogisticRegression\n",
    "from sklearn.preprocessing import StandardScaler\n",
    "from sklearn.metrics import confusion_matrix, accuracy_score, classification_report"
   ]
  },
  {
   "cell_type": "markdown",
   "id": "361f1d5b-a604-4a18-bb7a-8f119e8d7161",
   "metadata": {},
   "source": [
    "## Clean and prepare the data"
   ]
  },
  {
   "cell_type": "code",
   "execution_count": 5,
   "id": "fed0d4ac-7d3c-4866-82ae-96913724a0b6",
   "metadata": {},
   "outputs": [
    {
     "data": {
      "text/html": [
       "<div>\n",
       "<style scoped>\n",
       "    .dataframe tbody tr th:only-of-type {\n",
       "        vertical-align: middle;\n",
       "    }\n",
       "\n",
       "    .dataframe tbody tr th {\n",
       "        vertical-align: top;\n",
       "    }\n",
       "\n",
       "    .dataframe thead th {\n",
       "        text-align: right;\n",
       "    }\n",
       "</style>\n",
       "<table border=\"1\" class=\"dataframe\">\n",
       "  <thead>\n",
       "    <tr style=\"text-align: right;\">\n",
       "      <th></th>\n",
       "      <th>Age</th>\n",
       "      <th>Sex</th>\n",
       "      <th>ChestPainType</th>\n",
       "      <th>RestingBP</th>\n",
       "      <th>Cholesterol</th>\n",
       "      <th>FastingBS</th>\n",
       "      <th>RestingECG</th>\n",
       "      <th>MaxHR</th>\n",
       "      <th>ExerciseAngina</th>\n",
       "      <th>Oldpeak</th>\n",
       "      <th>ST_Slope</th>\n",
       "      <th>HeartDisease</th>\n",
       "    </tr>\n",
       "  </thead>\n",
       "  <tbody>\n",
       "    <tr>\n",
       "      <th>0</th>\n",
       "      <td>40</td>\n",
       "      <td>M</td>\n",
       "      <td>ATA</td>\n",
       "      <td>140</td>\n",
       "      <td>289</td>\n",
       "      <td>0</td>\n",
       "      <td>Normal</td>\n",
       "      <td>172</td>\n",
       "      <td>N</td>\n",
       "      <td>0.0</td>\n",
       "      <td>Up</td>\n",
       "      <td>0</td>\n",
       "    </tr>\n",
       "    <tr>\n",
       "      <th>1</th>\n",
       "      <td>49</td>\n",
       "      <td>F</td>\n",
       "      <td>NAP</td>\n",
       "      <td>160</td>\n",
       "      <td>180</td>\n",
       "      <td>0</td>\n",
       "      <td>Normal</td>\n",
       "      <td>156</td>\n",
       "      <td>N</td>\n",
       "      <td>1.0</td>\n",
       "      <td>Flat</td>\n",
       "      <td>1</td>\n",
       "    </tr>\n",
       "    <tr>\n",
       "      <th>2</th>\n",
       "      <td>37</td>\n",
       "      <td>M</td>\n",
       "      <td>ATA</td>\n",
       "      <td>130</td>\n",
       "      <td>283</td>\n",
       "      <td>0</td>\n",
       "      <td>ST</td>\n",
       "      <td>98</td>\n",
       "      <td>N</td>\n",
       "      <td>0.0</td>\n",
       "      <td>Up</td>\n",
       "      <td>0</td>\n",
       "    </tr>\n",
       "    <tr>\n",
       "      <th>3</th>\n",
       "      <td>48</td>\n",
       "      <td>F</td>\n",
       "      <td>ASY</td>\n",
       "      <td>138</td>\n",
       "      <td>214</td>\n",
       "      <td>0</td>\n",
       "      <td>Normal</td>\n",
       "      <td>108</td>\n",
       "      <td>Y</td>\n",
       "      <td>1.5</td>\n",
       "      <td>Flat</td>\n",
       "      <td>1</td>\n",
       "    </tr>\n",
       "    <tr>\n",
       "      <th>4</th>\n",
       "      <td>54</td>\n",
       "      <td>M</td>\n",
       "      <td>NAP</td>\n",
       "      <td>150</td>\n",
       "      <td>195</td>\n",
       "      <td>0</td>\n",
       "      <td>Normal</td>\n",
       "      <td>122</td>\n",
       "      <td>N</td>\n",
       "      <td>0.0</td>\n",
       "      <td>Up</td>\n",
       "      <td>0</td>\n",
       "    </tr>\n",
       "  </tbody>\n",
       "</table>\n",
       "</div>"
      ],
      "text/plain": [
       "   Age Sex ChestPainType  RestingBP  Cholesterol  FastingBS RestingECG  MaxHR  \\\n",
       "0   40   M           ATA        140          289          0     Normal    172   \n",
       "1   49   F           NAP        160          180          0     Normal    156   \n",
       "2   37   M           ATA        130          283          0         ST     98   \n",
       "3   48   F           ASY        138          214          0     Normal    108   \n",
       "4   54   M           NAP        150          195          0     Normal    122   \n",
       "\n",
       "  ExerciseAngina  Oldpeak ST_Slope  HeartDisease  \n",
       "0              N      0.0       Up             0  \n",
       "1              N      1.0     Flat             1  \n",
       "2              N      0.0       Up             0  \n",
       "3              Y      1.5     Flat             1  \n",
       "4              N      0.0       Up             0  "
      ]
     },
     "execution_count": 5,
     "metadata": {},
     "output_type": "execute_result"
    }
   ],
   "source": [
    "df.head()"
   ]
  },
  {
   "cell_type": "code",
   "execution_count": 6,
   "id": "f2fb3815-2460-44b0-bae6-572393ffbba5",
   "metadata": {
    "scrolled": true
   },
   "outputs": [
    {
     "data": {
      "text/plain": [
       "Age               False\n",
       "Sex               False\n",
       "ChestPainType     False\n",
       "RestingBP         False\n",
       "Cholesterol       False\n",
       "FastingBS         False\n",
       "RestingECG        False\n",
       "MaxHR             False\n",
       "ExerciseAngina    False\n",
       "Oldpeak           False\n",
       "ST_Slope          False\n",
       "HeartDisease      False\n",
       "dtype: bool"
      ]
     },
     "execution_count": 6,
     "metadata": {},
     "output_type": "execute_result"
    }
   ],
   "source": [
    "df.isna().any()"
   ]
  },
  {
   "cell_type": "markdown",
   "id": "9693d073-9c43-4d69-aa9b-69df6d1b21dc",
   "metadata": {},
   "source": [
    "## Convert text columns to numbers using label encoding and one hot encoding\n",
    "## Apply Scaling"
   ]
  },
  {
   "cell_type": "code",
   "execution_count": 7,
   "id": "81db4a0c-8b8b-4d65-9c89-8fdc9fc8a4cb",
   "metadata": {},
   "outputs": [],
   "source": [
    "X = df.drop(columns=['HeartDisease'])\n",
    "y = df.HeartDisease\n",
    "\n",
    "X_encoded = pd.get_dummies(X, columns=['Sex', 'ChestPainType', 'RestingECG', 'ExerciseAngina', 'ST_Slope'], dtype=int)\n",
    "scale = StandardScaler()\n",
    "X_scaled = scale.fit_transform(X_encoded)"
   ]
  },
  {
   "cell_type": "code",
   "execution_count": null,
   "id": "733b1424-2199-4112-bf2e-24397009008c",
   "metadata": {},
   "outputs": [],
   "source": []
  },
  {
   "cell_type": "markdown",
   "id": "fc100500-1d77-4b40-97d8-b1c0fe7aaf8c",
   "metadata": {},
   "source": [
    "## Now our data is prepared for predictions"
   ]
  },
  {
   "cell_type": "markdown",
   "id": "76d13918-1578-40a7-a36e-d663668c2f7b",
   "metadata": {},
   "source": [
    "## Build a classification model using various methods (SVM, logistic regression, random forest) and check which model gives you the best accuracy\n",
    "***"
   ]
  },
  {
   "cell_type": "markdown",
   "id": "c30d617c-51ec-4592-aa2d-d697801f4afa",
   "metadata": {},
   "source": [
    "# Cross Validation"
   ]
  },
  {
   "cell_type": "markdown",
   "id": "9740fc13-b8b3-4b21-ae20-2a520d2e6c2a",
   "metadata": {},
   "source": [
    "## Cross-validation is a statistical method used to evaluate the performance of machine learning models by dividing the available data into multiple subsets, training the model on some subsets, and testing its performance on the remaining subsets. This process is repeated multiple times, with each subset serving as both training and testing data at some point.\n",
    "\n",
    "**Types of Cross-Validation:**\n",
    "- K-Fold Cross-Validation: The dataset is divided into k subsets (folds), and the model is trained and tested k times. Each fold is used as a test set once, and the remaining k-1 folds are used as the training set.\n",
    "- Leave-One-Out Cross-Validation (LOOCV): Each sample in the dataset is used as a test set once, and the remaining samples are used as the training set.\n",
    "- Leave-P-Out Cross-Validation (LpOC): Similar to LOOCV, but p samples are used as the test set instead of just one."
   ]
  },
  {
   "cell_type": "code",
   "execution_count": 25,
   "id": "bf7fe223-1d53-4e62-8875-b16c7c772a1f",
   "metadata": {},
   "outputs": [],
   "source": [
    "from sklearn.model_selection import cross_val_score, KFold"
   ]
  },
  {
   "cell_type": "markdown",
   "id": "aafff19c-9fbc-4cc6-816a-997484394961",
   "metadata": {},
   "source": [
    "## Let's prove KNN"
   ]
  },
  {
   "cell_type": "code",
   "execution_count": 9,
   "id": "de20e29b-4e10-40fd-b762-590e0c320083",
   "metadata": {},
   "outputs": [
    {
     "name": "stdout",
     "output_type": "stream",
     "text": [
      "scores:[0.81521739 0.76630435 0.77173913 0.80327869 0.73224044] k numbers: 1\n",
      "scores:[0.73369565 0.76086957 0.80978261 0.80874317 0.71038251] k numbers: 2\n",
      "scores:[0.84782609 0.81521739 0.83695652 0.83060109 0.7704918 ] k numbers: 3\n",
      "scores:[0.80978261 0.76630435 0.82608696 0.81967213 0.7431694 ] k numbers: 4\n",
      "scores:[0.85869565 0.82065217 0.8423913  0.81967213 0.75409836] k numbers: 5\n",
      "scores:[0.83695652 0.79891304 0.84782609 0.82513661 0.76502732] k numbers: 6\n",
      "scores:[0.85869565 0.80978261 0.8423913  0.82513661 0.78688525] k numbers: 7\n",
      "scores:[0.85326087 0.80434783 0.8423913  0.81967213 0.78142077] k numbers: 8\n",
      "scores:[0.86956522 0.82065217 0.85326087 0.82513661 0.79781421] k numbers: 9\n",
      "scores:[0.86956522 0.80978261 0.85326087 0.81420765 0.79234973] k numbers: 10\n",
      "scores:[0.875      0.83152174 0.8423913  0.81967213 0.78688525] k numbers: 11\n",
      "scores:[0.85869565 0.80978261 0.84782609 0.81967213 0.79781421] k numbers: 12\n",
      "scores:[0.86956522 0.83152174 0.85326087 0.82513661 0.78142077] k numbers: 13\n",
      "scores:[0.85869565 0.83695652 0.85326087 0.81967213 0.79234973] k numbers: 14\n",
      "scores:[0.86956522 0.8423913  0.84782609 0.82513661 0.79781421] k numbers: 15\n",
      "scores:[0.85869565 0.83695652 0.85326087 0.83060109 0.79234973] k numbers: 16\n",
      "scores:[0.86956522 0.8423913  0.84782609 0.81967213 0.80327869] k numbers: 17\n",
      "scores:[0.85869565 0.8423913  0.85326087 0.83060109 0.78142077] k numbers: 18\n",
      "scores:[0.86956522 0.85326087 0.84782609 0.81967213 0.78688525] k numbers: 19\n"
     ]
    }
   ],
   "source": [
    "for k in range(1,20):\n",
    "    scores = cross_val_score(KNeighborsClassifier(n_neighbors=k), X_scaled, y, cv=5, scoring='accuracy')\n",
    "    print(f'scores:{scores} k numbers: {k}')"
   ]
  },
  {
   "cell_type": "markdown",
   "id": "bdddbf4f-9ddf-44ef-92c9-0d42334c263a",
   "metadata": {},
   "source": [
    "## Now SVC"
   ]
  },
  {
   "cell_type": "code",
   "execution_count": 10,
   "id": "ca94dabe-025d-40a9-ade0-fee5ee5ca7cb",
   "metadata": {},
   "outputs": [
    {
     "data": {
      "text/plain": [
       "array([0.88043478, 0.82608696, 0.83695652, 0.82513661, 0.74863388])"
      ]
     },
     "execution_count": 10,
     "metadata": {},
     "output_type": "execute_result"
    }
   ],
   "source": [
    "score = cross_val_score(SVC(random_state=42), X_scaled, y, cv=5, scoring='accuracy')\n",
    "score"
   ]
  },
  {
   "cell_type": "markdown",
   "id": "2218a358-d878-4ed5-b31a-44cd2b9f3b51",
   "metadata": {},
   "source": [
    "## Now Decision Tree"
   ]
  },
  {
   "cell_type": "code",
   "execution_count": 11,
   "id": "9d448d5f-d3bf-43eb-867d-c818485a976b",
   "metadata": {},
   "outputs": [
    {
     "name": "stdout",
     "output_type": "stream",
     "text": [
      "scores:[0.86956522 0.85326087 0.84782609 0.81967213 0.78688525] max depth: 1\n",
      "scores:[0.86956522 0.85326087 0.84782609 0.81967213 0.78688525] max depth: 2\n",
      "scores:[0.86956522 0.85326087 0.84782609 0.81967213 0.78688525] max depth: 3\n",
      "scores:[0.86956522 0.85326087 0.84782609 0.81967213 0.78688525] max depth: 4\n",
      "scores:[0.86956522 0.85326087 0.84782609 0.81967213 0.78688525] max depth: 5\n",
      "scores:[0.86956522 0.85326087 0.84782609 0.81967213 0.78688525] max depth: 6\n",
      "scores:[0.86956522 0.85326087 0.84782609 0.81967213 0.78688525] max depth: 7\n",
      "scores:[0.86956522 0.85326087 0.84782609 0.81967213 0.78688525] max depth: 8\n",
      "scores:[0.86956522 0.85326087 0.84782609 0.81967213 0.78688525] max depth: 9\n"
     ]
    }
   ],
   "source": [
    "for n in range(1,10):\n",
    "    score = cross_val_score(DecisionTreeClassifier(max_depth=n, random_state=42), X_scaled, y, cv=5, scoring='accuracy')\n",
    "    print(f'scores:{scores} max depth: {n}')"
   ]
  },
  {
   "cell_type": "markdown",
   "id": "ebae2704-4b83-4eb8-b115-72fa08ad8060",
   "metadata": {},
   "source": [
    "## Now RandomForest"
   ]
  },
  {
   "cell_type": "code",
   "execution_count": 14,
   "id": "ff198136-dfb2-46fd-9891-d1327ccbbfb7",
   "metadata": {},
   "outputs": [
    {
     "name": "stdout",
     "output_type": "stream",
     "text": [
      "scores:[0.76630435 0.69565217 0.78804348 0.75409836 0.68306011] n estimators: 1\n",
      "scores:[0.85326087 0.7826087  0.82065217 0.84699454 0.73224044] n estimators: 12\n",
      "scores:[0.86413043 0.83695652 0.83695652 0.84699454 0.76502732] n estimators: 23\n",
      "scores:[0.89673913 0.81521739 0.8423913  0.81967213 0.75409836] n estimators: 34\n",
      "scores:[0.89673913 0.80434783 0.82608696 0.8579235  0.76502732] n estimators: 45\n",
      "scores:[0.86413043 0.81521739 0.85869565 0.84699454 0.75956284] n estimators: 56\n",
      "scores:[0.90217391 0.80978261 0.8423913  0.83606557 0.7704918 ] n estimators: 67\n",
      "scores:[0.88043478 0.82065217 0.84782609 0.83060109 0.74863388] n estimators: 78\n",
      "scores:[0.89130435 0.80434783 0.82608696 0.83060109 0.78688525] n estimators: 89\n",
      "scores:[0.89130435 0.81521739 0.83152174 0.83606557 0.74863388] n estimators: 100\n"
     ]
    }
   ],
   "source": [
    "for n in range(1, 101, 11):\n",
    "    scores= cross_val_score(RandomForestClassifier(n_estimators=n, random_state=42), X_scaled, y, cv=5, scoring='accuracy')\n",
    "    print(f'scores:{scores} n estimators: {n}')"
   ]
  },
  {
   "cell_type": "markdown",
   "id": "e14c95d4-b3f1-4ae5-9ae5-84cac037cb46",
   "metadata": {},
   "source": [
    "## And last, LogisticRegression"
   ]
  },
  {
   "cell_type": "code",
   "execution_count": 17,
   "id": "aa81c617-0e9b-4fd0-88c7-2756b46cfdf6",
   "metadata": {},
   "outputs": [
    {
     "data": {
      "text/plain": [
       "array([0.85326087, 0.83695652, 0.82608696, 0.8579235 , 0.75956284])"
      ]
     },
     "execution_count": 17,
     "metadata": {},
     "output_type": "execute_result"
    }
   ],
   "source": [
    "score = cross_val_score(LogisticRegression(random_state=42), X_scaled, y, cv=5, scoring='accuracy')\n",
    "score"
   ]
  },
  {
   "cell_type": "markdown",
   "id": "e41d5079-0861-40b0-8aa1-ba3b5350fb87",
   "metadata": {},
   "source": [
    "## Now We select the model with the BEST accuracy"
   ]
  },
  {
   "cell_type": "code",
   "execution_count": 23,
   "id": "90680a5b-11e4-4e37-af46-e3e86e924b01",
   "metadata": {},
   "outputs": [
    {
     "data": {
      "text/plain": [
       "array([0.89673913, 0.81521739, 0.8423913 , 0.84153005, 0.76502732])"
      ]
     },
     "execution_count": 23,
     "metadata": {},
     "output_type": "execute_result"
    }
   ],
   "source": [
    "cross_val_score(RandomForestClassifier(n_estimators=67,random_state=42), X_scaled, y, cv=5, scoring='accuracy')"
   ]
  },
  {
   "cell_type": "markdown",
   "id": "89195784-0814-4fe3-8a52-85f60b0a1a30",
   "metadata": {},
   "source": [
    "## Search the model manually using K-fold"
   ]
  },
  {
   "cell_type": "code",
   "execution_count": 32,
   "id": "fb2ae359-7f33-474c-9951-09ed21e8fad7",
   "metadata": {},
   "outputs": [
    {
     "name": "stdout",
     "output_type": "stream",
     "text": [
      "first fold: 0.907608695652174\n"
     ]
    }
   ],
   "source": [
    "kf = KFold(n_splits=5, shuffle=False)\n",
    "\n",
    "X_train, X_test, y_train, y_test = None, None, None, None\n",
    "\n",
    "for fold_index, (train_index, test_index) in enumerate(kf.split(X_scaled)):\n",
    "    if fold_index == 0:  # first fold\n",
    "        X_train, X_test = X_scaled[train_index], X_scaled[test_index]\n",
    "        y_train, y_test = y[train_index], y[test_index]\n",
    "        break\n",
    "model = RandomForestClassifier(n_estimators=67, random_state=42)\n",
    "model.fit(X_train, y_train)\n",
    "\n",
    "y_pred = model.predict(X_test)\n",
    "accuracy = accuracy_score(y_test, y_pred)\n",
    "\n",
    "print(f\"first fold: {accuracy}\")"
   ]
  },
  {
   "cell_type": "markdown",
   "id": "74353301-6870-427b-acd2-24eafce1996a",
   "metadata": {},
   "source": [
    "## Now use PCA to reduce dimensions, retrain your model and see what impact it has on your model in terms of accuracy. Keep in mind that many times doing PCA reduces the accuracy but computation is much lighter and that's the trade off you need to consider while building models in real life"
   ]
  },
  {
   "cell_type": "code",
   "execution_count": 59,
   "id": "5046646a-e8e5-4218-b2f1-4be9f97871c5",
   "metadata": {},
   "outputs": [],
   "source": [
    "pca = PCA(0.90)"
   ]
  },
  {
   "cell_type": "code",
   "execution_count": 60,
   "id": "70d12f76-cae3-4eb6-885f-0910cbc8a903",
   "metadata": {},
   "outputs": [],
   "source": [
    "X_pca = pca.fit_transform(X_scaled)"
   ]
  },
  {
   "cell_type": "code",
   "execution_count": 61,
   "id": "7c1ec3df-49c1-4a78-843d-1a2f08509e38",
   "metadata": {},
   "outputs": [
    {
     "data": {
      "text/plain": [
       "(918, 12)"
      ]
     },
     "execution_count": 61,
     "metadata": {},
     "output_type": "execute_result"
    }
   ],
   "source": [
    "X_pca.shape"
   ]
  },
  {
   "cell_type": "code",
   "execution_count": 62,
   "id": "104fc621-0f40-4cdc-8398-1b96834cd811",
   "metadata": {},
   "outputs": [
    {
     "data": {
      "text/plain": [
       "(918, 20)"
      ]
     },
     "execution_count": 62,
     "metadata": {},
     "output_type": "execute_result"
    }
   ],
   "source": [
    "X_scaled.shape"
   ]
  },
  {
   "cell_type": "code",
   "execution_count": 63,
   "id": "3750fd04-da38-4709-a200-588a55a45459",
   "metadata": {},
   "outputs": [
    {
     "name": "stdout",
     "output_type": "stream",
     "text": [
      "first fold with pca: 0.9021739130434783\n"
     ]
    }
   ],
   "source": [
    "kf = KFold(n_splits=5, shuffle=False)\n",
    "\n",
    "X_train, X_test, y_train, y_test = None, None, None, None\n",
    "\n",
    "for fold_index, (train_index, test_index) in enumerate(kf.split(X_pca)):\n",
    "    if fold_index == 0:  # first fold\n",
    "        X_train, X_test = X_pca[train_index], X_pca[test_index]\n",
    "        y_train, y_test = y[train_index], y[test_index]\n",
    "        break\n",
    "modelpca = RandomForestClassifier(n_estimators=67, random_state=42)\n",
    "modelpca.fit(X_train, y_train)\n",
    "\n",
    "y_pred = modelpca.predict(X_test)\n",
    "accuracy = accuracy_score(y_test, y_pred)\n",
    "\n",
    "print(f\"first fold with pca: {accuracy}\")"
   ]
  },
  {
   "cell_type": "markdown",
   "id": "efffd414-a8f5-42ee-a26d-7bcbe3718799",
   "metadata": {},
   "source": [
    "the difference is 0.005"
   ]
  },
  {
   "cell_type": "code",
   "execution_count": null,
   "id": "3a551a13-90e3-437a-bf3d-b8d225203e8e",
   "metadata": {},
   "outputs": [],
   "source": []
  }
 ],
 "metadata": {
  "kernelspec": {
   "display_name": "analise_data",
   "language": "python",
   "name": "analise_data"
  },
  "language_info": {
   "codemirror_mode": {
    "name": "ipython",
    "version": 3
   },
   "file_extension": ".py",
   "mimetype": "text/x-python",
   "name": "python",
   "nbconvert_exporter": "python",
   "pygments_lexer": "ipython3",
   "version": "3.10.12"
  },
  "widgets": {
   "application/vnd.jupyter.widget-state+json": {
    "state": {},
    "version_major": 2,
    "version_minor": 0
   }
  }
 },
 "nbformat": 4,
 "nbformat_minor": 5
}
