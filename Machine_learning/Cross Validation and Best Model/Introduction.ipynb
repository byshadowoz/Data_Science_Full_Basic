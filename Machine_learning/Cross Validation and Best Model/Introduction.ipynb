{
 "cells": [
  {
   "cell_type": "markdown",
   "id": "cb1a62b7-e661-4ca5-8b7f-f5ac23614c74",
   "metadata": {},
   "source": [
    "# Introduction to Cross Validation in Machine learning and who to find the best model for each case\n",
    "***"
   ]
  },
  {
   "cell_type": "markdown",
   "id": "b295c831-5034-4467-93f8-6fb59e050ec8",
   "metadata": {},
   "source": [
    "In this final module of Machine Learning i'll teach you what's cross validation and how to choice the best ML model for each case of data\n",
    "it's importan that you know about Supervised and Unsupervised Learning because I'll use all types of algorithms\n",
    "***"
   ]
  },
  {
   "cell_type": "markdown",
   "id": "7dd10210-2c0d-4321-9ca8-cb3b584915ee",
   "metadata": {},
   "source": [
    "## **Also, This module will be resolve the exercise below i assume that you already know how this Models works**"
   ]
  },
  {
   "cell_type": "markdown",
   "id": "918fd0f7-55fb-469c-83da-50d27c670127",
   "metadata": {},
   "source": [
    "(credits of dataset: https://www.kaggle.com/fedesoriano/heart-failure-prediction)\n",
    "## First\n",
    "1. Load heart disease dataset in pandas dataframe\n",
    "3. Convert text columns to numbers using label encoding and one hot encoding\n",
    "4. Apply scaling\n",
    "5. Build a classification model using various methods (SVM, logistic regression, random forest) and check which model gives you the best accuracy\n",
    "6. Now use PCA to reduce dimensions, retrain your model and see what impact it has on your model in terms of accuracy. Keep in mind that many times doing PCA reduces the accuracy but computation is much lighter and that's the trade off you need to consider while building models in real life"
   ]
  },
  {
   "cell_type": "markdown",
   "id": "0325ff43-615f-4a34-be41-d10289b39758",
   "metadata": {},
   "source": [
    "## Second\n",
    "\n",
    "1. Load diabetes dataset from sklearn\n",
    "2. Clean data \n",
    "3. Apply Scaling\n",
    "4. Build a Regression Model with the best possible accuracy "
   ]
  },
  {
   "cell_type": "code",
   "execution_count": null,
   "id": "66400695-79f8-4804-922c-e116d1150bd0",
   "metadata": {},
   "outputs": [],
   "source": []
  }
 ],
 "metadata": {
  "kernelspec": {
   "display_name": "Python 3 (ipykernel)",
   "language": "python",
   "name": "python3"
  },
  "language_info": {
   "codemirror_mode": {
    "name": "ipython",
    "version": 3
   },
   "file_extension": ".py",
   "mimetype": "text/x-python",
   "name": "python",
   "nbconvert_exporter": "python",
   "pygments_lexer": "ipython3",
   "version": "3.11.5"
  },
  "widgets": {
   "application/vnd.jupyter.widget-state+json": {
    "state": {},
    "version_major": 2,
    "version_minor": 0
   }
  }
 },
 "nbformat": 4,
 "nbformat_minor": 5
}
