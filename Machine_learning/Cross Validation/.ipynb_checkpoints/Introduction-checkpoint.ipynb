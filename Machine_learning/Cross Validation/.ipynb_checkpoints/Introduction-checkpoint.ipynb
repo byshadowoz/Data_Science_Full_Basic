{
 "cells": [
  {
   "cell_type": "markdown",
   "id": "cb1a62b7-e661-4ca5-8b7f-f5ac23614c74",
   "metadata": {},
   "source": [
    "# Introduction to Cross Validation in Machine learning"
   ]
  },
  {
   "cell_type": "code",
   "execution_count": null,
   "id": "7ed9f3bd-8b6f-4415-84e3-9f54aba7a590",
   "metadata": {},
   "outputs": [],
   "source": []
  }
 ],
 "metadata": {
  "kernelspec": {
   "display_name": "Python 3 (ipykernel)",
   "language": "python",
   "name": "python3"
  },
  "language_info": {
   "codemirror_mode": {
    "name": "ipython",
    "version": 3
   },
   "file_extension": ".py",
   "mimetype": "text/x-python",
   "name": "python",
   "nbconvert_exporter": "python",
   "pygments_lexer": "ipython3",
   "version": "3.11.5"
  },
  "widgets": {
   "application/vnd.jupyter.widget-state+json": {
    "state": {},
    "version_major": 2,
    "version_minor": 0
   }
  }
 },
 "nbformat": 4,
 "nbformat_minor": 5
}
