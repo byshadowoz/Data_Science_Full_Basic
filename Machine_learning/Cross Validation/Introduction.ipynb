{
 "cells": [
  {
   "cell_type": "markdown",
   "id": "cb1a62b7-e661-4ca5-8b7f-f5ac23614c74",
   "metadata": {},
   "source": [
    "# Introduction to Cross Validation in Machine learning"
   ]
  },
  {
   "cell_type": "markdown",
   "id": "918fd0f7-55fb-469c-83da-50d27c670127",
   "metadata": {},
   "source": [
    "(credits of dataset: https://www.kaggle.com/fedesoriano/heart-failure-prediction)\n",
    "\n",
    "Load heart disease dataset in pandas dataframe\n",
    "Remove outliers using Z score. Usual guideline is to remove anything that has Z score > 3 formula or Z score < -3\n",
    "Convert text columns to numbers using label encoding and one hot encoding\n",
    "Apply scaling\n",
    "Build a classification model using various methods (SVM, logistic regression, random forest) and check which model gives you the best accuracy\n",
    "Now use PCA to reduce dimensions, retrain your model and see what impact it has on your model in terms of accuracy. Keep in mind that many times doing PCA reduces the accuracy but computation is much lighter and that's the trade off you need to consider while building models in real life"
   ]
  }
 ],
 "metadata": {
  "kernelspec": {
   "display_name": "Python 3 (ipykernel)",
   "language": "python",
   "name": "python3"
  },
  "language_info": {
   "codemirror_mode": {
    "name": "ipython",
    "version": 3
   },
   "file_extension": ".py",
   "mimetype": "text/x-python",
   "name": "python",
   "nbconvert_exporter": "python",
   "pygments_lexer": "ipython3",
   "version": "3.11.5"
  },
  "widgets": {
   "application/vnd.jupyter.widget-state+json": {
    "state": {},
    "version_major": 2,
    "version_minor": 0
   }
  }
 },
 "nbformat": 4,
 "nbformat_minor": 5
}
