{
 "cells": [
  {
   "cell_type": "markdown",
   "metadata": {},
   "source": [
    "# KNN"
   ]
  },
  {
   "cell_type": "code",
   "execution_count": 2,
   "metadata": {},
   "outputs": [],
   "source": [
    "import numpy as np\n",
    "import pandas as pd\n",
    "import matplotlib.pyplot as plt\n",
    "from sklearn.model_selection import train_test_split\n",
    "from sklearn.neighbors import KNeighborsClassifier\n",
    "from sklearn.metrics import accuracy_score, classification_report, confusion_matrix\n",
    "from sklearn.preprocessing import OneHotEncoder"
   ]
  },
  {
   "cell_type": "code",
   "execution_count": 3,
   "metadata": {},
   "outputs": [
    {
     "name": "stderr",
     "output_type": "stream",
     "text": [
      "/tmp/ipykernel_59032/161603315.py:5: FutureWarning: Downcasting behavior in `replace` is deprecated and will be removed in a future version. To retain the old behavior, explicitly call `result.infer_objects(copy=False)`. To opt-in to the future behavior, set `pd.set_option('future.no_silent_downcasting', True)`\n",
      "  y = df['class'].replace({'p':0, 'e':1})\n"
     ]
    }
   ],
   "source": [
    "#load data\n",
    "df = pd.read_csv('mushrooms.csv')\n",
    "\n",
    "X = df.drop(columns=['class'])\n",
    "y = df['class'].replace({'p':0, 'e':1})\n"
   ]
  },
  {
   "cell_type": "code",
   "execution_count": 9,
   "metadata": {},
   "outputs": [],
   "source": [
    "encoder = OneHotEncoder()\n",
    "X = encoder.fit_transform(X)\n",
    "X = X.toarray()\n",
    "X = pd.DataFrame(X)"
   ]
  },
  {
   "cell_type": "code",
   "execution_count": 8,
   "metadata": {},
   "outputs": [
    {
     "data": {
      "text/plain": [
       "0       0\n",
       "1       1\n",
       "2       1\n",
       "3       0\n",
       "4       1\n",
       "       ..\n",
       "8119    1\n",
       "8120    1\n",
       "8121    1\n",
       "8122    0\n",
       "8123    1\n",
       "Name: class, Length: 8124, dtype: int64"
      ]
     },
     "execution_count": 8,
     "metadata": {},
     "output_type": "execute_result"
    }
   ],
   "source": []
  },
  {
   "cell_type": "code",
   "execution_count": 10,
   "metadata": {},
   "outputs": [],
   "source": [
    "X_train, X_test, y_train, y_test = train_test_split(X, y, test_size=0.3, random_state=42)"
   ]
  },
  {
   "cell_type": "code",
   "execution_count": 11,
   "metadata": {},
   "outputs": [],
   "source": [
    "k_values = [1, 3,  5, 7, 11, 13, 15, 17, 21]\n",
    "\n",
    "knn_res = {}\n",
    "for k in k_values:\n",
    "    knn_model = KNeighborsClassifier(n_neighbors=k)\n",
    "    knn_model.fit(X_train, y_train)\n",
    "    y_pred_knn = knn_model.predict(X_test)\n",
    "    knn_res[k] = {\n",
    "        'model': knn_model,\n",
    "        'y_pred': y_pred_knn,\n",
    "        'accuracy': accuracy_score(y_test, y_pred_knn)\n",
    "    }"
   ]
  },
  {
   "cell_type": "code",
   "execution_count": 13,
   "metadata": {},
   "outputs": [
    {
     "data": {
      "text/plain": [
       "{1: {'model': KNeighborsClassifier(n_neighbors=1),\n",
       "  'y_pred': array([1, 0, 0, ..., 0, 1, 1]),\n",
       "  'accuracy': 1.0},\n",
       " 3: {'model': KNeighborsClassifier(n_neighbors=3),\n",
       "  'y_pred': array([1, 0, 0, ..., 0, 1, 1]),\n",
       "  'accuracy': 1.0},\n",
       " 5: {'model': KNeighborsClassifier(),\n",
       "  'y_pred': array([1, 0, 0, ..., 0, 1, 1]),\n",
       "  'accuracy': 1.0},\n",
       " 7: {'model': KNeighborsClassifier(n_neighbors=7),\n",
       "  'y_pred': array([1, 0, 0, ..., 0, 1, 1]),\n",
       "  'accuracy': 1.0},\n",
       " 11: {'model': KNeighborsClassifier(n_neighbors=11),\n",
       "  'y_pred': array([1, 0, 0, ..., 0, 1, 1]),\n",
       "  'accuracy': 0.9991796554552912},\n",
       " 13: {'model': KNeighborsClassifier(n_neighbors=13),\n",
       "  'y_pred': array([1, 0, 0, ..., 0, 1, 1]),\n",
       "  'accuracy': 0.9991796554552912},\n",
       " 15: {'model': KNeighborsClassifier(n_neighbors=15),\n",
       "  'y_pred': array([1, 0, 0, ..., 0, 1, 1]),\n",
       "  'accuracy': 0.9991796554552912},\n",
       " 17: {'model': KNeighborsClassifier(n_neighbors=17),\n",
       "  'y_pred': array([1, 0, 0, ..., 0, 1, 1]),\n",
       "  'accuracy': 0.9991796554552912},\n",
       " 21: {'model': KNeighborsClassifier(n_neighbors=21),\n",
       "  'y_pred': array([1, 0, 0, ..., 0, 1, 1]),\n",
       "  'accuracy': 0.9987694831829368}}"
      ]
     },
     "execution_count": 13,
     "metadata": {},
     "output_type": "execute_result"
    }
   ],
   "source": [
    "knn_res"
   ]
  },
  {
   "cell_type": "code",
   "execution_count": 12,
   "metadata": {},
   "outputs": [
    {
     "name": "stdout",
     "output_type": "stream",
     "text": [
      "Confusion Matrix:\n",
      "[[1178    3]\n",
      " [   0 1257]]\n",
      "Classification Report:\n",
      "              precision    recall  f1-score   support\n",
      "\n",
      "           0       1.00      1.00      1.00      1181\n",
      "           1       1.00      1.00      1.00      1257\n",
      "\n",
      "    accuracy                           1.00      2438\n",
      "   macro avg       1.00      1.00      1.00      2438\n",
      "weighted avg       1.00      1.00      1.00      2438\n",
      "\n",
      "Accuracy: 0.9987694831829368\n"
     ]
    }
   ],
   "source": [
    "result = confusion_matrix(y_test, y_pred_knn)\n",
    "print(\"Confusion Matrix:\")\n",
    "print(result)\n",
    "result1 = classification_report(y_test, y_pred_knn)\n",
    "print(\"Classification Report:\",)\n",
    "print (result1)\n",
    "result2 = accuracy_score(y_test,y_pred_knn)\n",
    "print(\"Accuracy:\",result2)"
   ]
  },
  {
   "cell_type": "markdown",
   "metadata": {},
   "source": [
    "# Desicion Tree"
   ]
  },
  {
   "cell_type": "code",
   "execution_count": null,
   "metadata": {},
   "outputs": [],
   "source": []
  }
 ],
 "metadata": {
  "kernelspec": {
   "display_name": "analise_data",
   "language": "python",
   "name": "python3"
  },
  "language_info": {
   "codemirror_mode": {
    "name": "ipython",
    "version": 3
   },
   "file_extension": ".py",
   "mimetype": "text/x-python",
   "name": "python",
   "nbconvert_exporter": "python",
   "pygments_lexer": "ipython3",
   "version": "3.10.12"
  }
 },
 "nbformat": 4,
 "nbformat_minor": 2
}
