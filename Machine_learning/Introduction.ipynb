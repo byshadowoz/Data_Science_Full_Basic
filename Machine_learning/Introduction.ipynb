{
 "cells": [
  {
   "cell_type": "markdown",
   "metadata": {},
   "source": [
    "# Introduction to Machine Learning types\n",
    "Machine Learning types or ML types are the way in which the data will be used\n",
    "in the machine learning model. There are three types of ML types:\n",
    "## **1. Supervised Learning**:\n",
    "In this type of learning, the model is trained on labeled data\n",
    "where the correct output is already known. The model is capable to look patterns and predict the output\n",
    "### - **Classification**:\n",
    "Classification is a type of supervised learning where the model is trained to predict a categorical output\n",
    "### - **Regression**:\n",
    "Regression is a type of supervised learning where the model is trained to predict a continuous output\n",
    "### - **Neural Networks**:\n",
    "Neural Networks is a hot area right now. it is a lot of hidden layers and neurons doing classification or regression because the solution is provided\n",
    "\n",
    "### **Classification VS Regression**:\n",
    "- **Classification**:\n",
    "Classification will enable us to predict labels such as wheather condition; safe or risky; positive or negative\n",
    "- **Regression**:\n",
    "Regression will enable us to predict continuous values such as house price; stock price; temperature\n",
    "\n",
    "***\n",
    "\n",
    "## **2. Unsupervised Learning**:\n",
    "In this type of learning, the model is trained on unlabeled data\n",
    "the model here will find relationships between the data and grouping the most similar data.\n",
    "### - **Clustering**:\n",
    "Clustering is a type of unsupervised learning where the model is trained to group similar data\n",
    "### - **Dimensionality Reduction**:\n",
    "Dimensionality Reduction is a type of unsupervised learning where the model is trained to reduce the number\n",
    "of features in the data\n",
    "### - **Frequent patterns**:\n",
    "Frequent patterns is a type of unsupervised learning where the model is trained to find the most\n",
    "common patterns in the data\n",
    "\n"
   ]
  }
 ],
 "metadata": {
  "language_info": {
   "name": "python"
  }
 },
 "nbformat": 4,
 "nbformat_minor": 2
}
