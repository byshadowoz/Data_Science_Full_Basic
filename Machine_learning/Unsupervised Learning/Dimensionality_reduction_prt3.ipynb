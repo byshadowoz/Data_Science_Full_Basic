{
 "cells": [
  {
   "cell_type": "markdown",
   "id": "cc337166-273c-45d4-9c0a-8656044f641e",
   "metadata": {},
   "source": [
    "# Dimensionality reduction\n",
    "***"
   ]
  },
  {
   "cell_type": "markdown",
   "id": "5ae6891b-0e88-421d-bcae-0041761e8890",
   "metadata": {},
   "source": [
    "- **Singular value decomposition (SVD):** Is a powerful unsupervised learning technique in machine learning, widely used for dimensionality reduction, data compression, noise reduction, feature extraction, and latent factor analysis."
   ]
  },
  {
   "cell_type": "markdown",
   "id": "e555be9f-8a92-437a-9da5-2748622a6d15",
   "metadata": {},
   "source": [
    "## Let's do an example"
   ]
  },
  {
   "cell_type": "code",
   "execution_count": null,
   "id": "bc466a08-4233-4580-a28b-e32ff282ab81",
   "metadata": {},
   "outputs": [],
   "source": []
  }
 ],
 "metadata": {
  "kernelspec": {
   "display_name": "Python 3 (ipykernel)",
   "language": "python",
   "name": "python3"
  },
  "language_info": {
   "codemirror_mode": {
    "name": "ipython",
    "version": 3
   },
   "file_extension": ".py",
   "mimetype": "text/x-python",
   "name": "python",
   "nbconvert_exporter": "python",
   "pygments_lexer": "ipython3",
   "version": "3.11.5"
  },
  "widgets": {
   "application/vnd.jupyter.widget-state+json": {
    "state": {},
    "version_major": 2,
    "version_minor": 0
   }
  }
 },
 "nbformat": 4,
 "nbformat_minor": 5
}
