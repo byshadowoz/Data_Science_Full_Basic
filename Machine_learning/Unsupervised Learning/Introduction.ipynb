{
 "cells": [
  {
   "cell_type": "markdown",
   "id": "7aa69ebd-327f-412a-b33d-776a0b95ddce",
   "metadata": {},
   "source": [
    "# Introduction to Unsupervised Learning models in machine learning\n",
    "***"
   ]
  },
  {
   "cell_type": "markdown",
   "id": "8a94a18e-604a-495f-9384-767ac91d6025",
   "metadata": {},
   "source": [
    "## Unsupervised learning is a machine learning tecnique that uses algorithms to analize and cluster. These algorithms discover hidden patterns or data groupings without the need for human intervention."
   ]
  },
  {
   "cell_type": "markdown",
   "id": "ebfd8527-2186-4577-bf28-c9d1c86c39b1",
   "metadata": {},
   "source": [
    "### **Unsupervised learning models are utilized for three main tasks—clustering, association, and dimensionality reduction. Below we’ll define each learning method and highlight common algorithms and approaches to conduct them effectively.**\n",
    "***"
   ]
  },
  {
   "cell_type": "markdown",
   "id": "e0fe1a9d-cce1-486e-88f3-dc2a612d4c4a",
   "metadata": {},
   "source": [
    "# **Clusterin:**\n",
    "Clustering is a data mining technique which groups unlabeled data based on their similarities or differences. Clustering algorithms are used to process raw, unclassified data objects into groups represented by structures or patterns in the information. Clustering algorithms can be categorized into a few types, specifically exclusive, overlapping, hierarchical, and probabilistic.\n",
    "***"
   ]
  },
  {
   "cell_type": "markdown",
   "id": "ab4e0180-c41a-49c7-b2c0-0e81c359cae2",
   "metadata": {},
   "source": [
    "# Association Rules \n",
    "An association rule is a rule-based method for finding relationships between variables in a given dataset. These methods are frequently used for market basket analysis, allowing companies to better understand relationships between different products. Understanding consumption habits of customers enables businesses to develop better cross-selling strategies and recommendation engines. Examples of this can be seen in Amazon’s “Customers Who Bought This Item Also Bought” or Spotify’s \"Discover Weekly\" playlist. While there are a few different algorithms used to generate association rules, such as Apriori, Eclat, and FP-Growth, the Apriori algorithm is most widely used.\n",
    "***"
   ]
  },
  {
   "cell_type": "markdown",
   "id": "6e34cc33-474d-46ab-973c-c8695d097e14",
   "metadata": {},
   "source": [
    "# Dimensionality reduction\n",
    "While more data generally yields more accurate results, it can also impact the performance of machine learning algorithms (e.g. overfitting) and it can also make it difficult to visualize datasets. Dimensionality reduction is a technique used when the number of features, or dimensions, in a given dataset is too high. It reduces the number of data inputs to a manageable size while also preserving the integrity of the dataset as much as possible. It is commonly used in the preprocessing data stage, and there are a few different dimensionality reduction methods that can be used, such as:\n",
    "- Principal component analysis (PCA)\n",
    "- Singular value decomposition (SVD)\n",
    "- Autoencoders\n",
    "***"
   ]
  },
  {
   "cell_type": "code",
   "execution_count": null,
   "id": "fb39561d-e039-4ffd-9133-2f58955fe1f0",
   "metadata": {},
   "outputs": [],
   "source": []
  }
 ],
 "metadata": {
  "kernelspec": {
   "display_name": "Python 3 (ipykernel)",
   "language": "python",
   "name": "python3"
  },
  "language_info": {
   "codemirror_mode": {
    "name": "ipython",
    "version": 3
   },
   "file_extension": ".py",
   "mimetype": "text/x-python",
   "name": "python",
   "nbconvert_exporter": "python",
   "pygments_lexer": "ipython3",
   "version": "3.11.5"
  },
  "widgets": {
   "application/vnd.jupyter.widget-state+json": {
    "state": {},
    "version_major": 2,
    "version_minor": 0
   }
  }
 },
 "nbformat": 4,
 "nbformat_minor": 5
}
