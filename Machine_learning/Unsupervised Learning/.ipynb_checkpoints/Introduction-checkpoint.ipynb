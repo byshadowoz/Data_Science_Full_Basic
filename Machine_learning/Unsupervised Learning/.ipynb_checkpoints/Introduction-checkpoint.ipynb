{
 "cells": [
  {
   "cell_type": "markdown",
   "id": "7aa69ebd-327f-412a-b33d-776a0b95ddce",
   "metadata": {},
   "source": [
    "# Introduction to Unsupervised Learning models in machine learning"
   ]
  },
  {
   "cell_type": "code",
   "execution_count": null,
   "id": "36993cf0-f8f1-4304-b870-98a249fef3a2",
   "metadata": {},
   "outputs": [],
   "source": []
  }
 ],
 "metadata": {
  "kernelspec": {
   "display_name": "Python 3 (ipykernel)",
   "language": "python",
   "name": "python3"
  },
  "language_info": {
   "codemirror_mode": {
    "name": "ipython",
    "version": 3
   },
   "file_extension": ".py",
   "mimetype": "text/x-python",
   "name": "python",
   "nbconvert_exporter": "python",
   "pygments_lexer": "ipython3",
   "version": "3.11.5"
  },
  "widgets": {
   "application/vnd.jupyter.widget-state+json": {
    "state": {},
    "version_major": 2,
    "version_minor": 0
   }
  }
 },
 "nbformat": 4,
 "nbformat_minor": 5
}
