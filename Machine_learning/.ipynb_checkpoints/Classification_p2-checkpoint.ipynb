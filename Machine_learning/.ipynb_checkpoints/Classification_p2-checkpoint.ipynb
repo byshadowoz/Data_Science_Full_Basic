{
 "cells": [
  {
   "cell_type": "markdown",
   "id": "a8c4122b-a6e8-4dbc-82a0-a8d6374cd7fa",
   "metadata": {},
   "source": [
    "# Classification part 2\n",
    "## in this part will see other 2 algorithms \n",
    "\n",
    "    - Naive Bayes\n",
    "    - Logistic Regression"
   ]
  },
  {
   "cell_type": "markdown",
   "id": "1cbf8168-1770-42c4-b88a-07632b44818d",
   "metadata": {},
   "source": [
    "## Naive Bayes"
   ]
  },
  {
   "cell_type": "markdown",
   "id": "94d7ac12-6849-4fb0-96bb-418a1486ea17",
   "metadata": {},
   "source": [
    "### Naive Bayes\n",
    "is a type of ML model\n",
    "Naive bayes has another version called gaussian naive bayes\n",
    "and other called Multinomial Naive Bayes"
   ]
  },
  {
   "cell_type": "code",
   "execution_count": null,
   "id": "519df9c0-5b5b-4471-a030-6b690579c1fa",
   "metadata": {},
   "outputs": [],
   "source": []
  }
 ],
 "metadata": {
  "kernelspec": {
   "display_name": "analise_data",
   "language": "python",
   "name": "analise_data"
  },
  "language_info": {
   "codemirror_mode": {
    "name": "ipython",
    "version": 3
   },
   "file_extension": ".py",
   "mimetype": "text/x-python",
   "name": "python",
   "nbconvert_exporter": "python",
   "pygments_lexer": "ipython3",
   "version": "3.10.12"
  },
  "widgets": {
   "application/vnd.jupyter.widget-state+json": {
    "state": {},
    "version_major": 2,
    "version_minor": 0
   }
  }
 },
 "nbformat": 4,
 "nbformat_minor": 5
}
