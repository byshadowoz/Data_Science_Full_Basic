{
 "cells": [
  {
   "cell_type": "markdown",
   "id": "a8c4122b-a6e8-4dbc-82a0-a8d6374cd7fa",
   "metadata": {},
   "source": [
    "# Classification part 2\n",
    "## in this part will see an importan Classification Model\n",
    "# Logistic Regression"
   ]
  },
  {
   "cell_type": "markdown",
   "id": "8828ef4e-7b8e-4876-a351-495ac4508ceb",
   "metadata": {},
   "source": [
    "Is a classification model with Binary and multiclass classification"
   ]
  },
  {
   "cell_type": "code",
   "execution_count": null,
   "id": "318fc0b1-0eff-46c3-a649-3a3ce3e75397",
   "metadata": {},
   "outputs": [],
   "source": []
  }
 ],
 "metadata": {
  "kernelspec": {
   "display_name": "analise_data",
   "language": "python",
   "name": "analise_data"
  },
  "language_info": {
   "codemirror_mode": {
    "name": "ipython",
    "version": 3
   },
   "file_extension": ".py",
   "mimetype": "text/x-python",
   "name": "python",
   "nbconvert_exporter": "python",
   "pygments_lexer": "ipython3",
   "version": "3.10.12"
  },
  "widgets": {
   "application/vnd.jupyter.widget-state+json": {
    "state": {},
    "version_major": 2,
    "version_minor": 0
   }
  }
 },
 "nbformat": 4,
 "nbformat_minor": 5
}
