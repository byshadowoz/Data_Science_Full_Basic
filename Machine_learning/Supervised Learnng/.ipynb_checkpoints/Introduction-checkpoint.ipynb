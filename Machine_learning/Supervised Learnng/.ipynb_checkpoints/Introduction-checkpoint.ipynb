{
 "cells": [
  {
   "cell_type": "markdown",
   "metadata": {},
   "source": [
    "# **Introduction to supervised learning models in machine learning**\n",
    "***\n",
    "## Classification\n",
    "**Classification involves predicting discrete categories or classes for given inputs. The model is trained on a dataset where the input features (variables) correspond to predefined labels or classes. The goal is to assign a new, unseen input to one of the known categories.\n",
    "The model learns a decision boundary that separates different classes in the feature space. For instance, in 2D data, this could be a line (for linear models) or a more complex shape (for non-linear models) that divides the space between different classes.\n",
    "The learned boundary can be influenced by the model type. Some models, like logistic regression, assume linear decision boundaries, while others, like random forests or support vector machines (SVM), can capture more complex, non-linear boundaries.**\n",
    "\n",
    "### Common Metrics for Classification:\n",
    "\n",
    "- Accuracy: The ratio of correctly predicted instances to the total instances.\n",
    "- Precision: Out of all instances predicted as positive, how many were truly positive.\n",
    "- Recall: Out of all actual positive instances, how many were correctly predicted as positive.\n",
    "- F1-Score: The harmonic mean of precision and recall, giving a balanced view when dealing with imbalanced classes.\n",
    "- AUC-ROC: Measures how well the model distinguishes between classes, focusing on the trade-off between true positive and false positive rates.\n",
    "\n",
    "***\n",
    "## Regression \n",
    "**Regression is focused on predicting continuous numerical values rather than discrete categories. The model learns from data where the target output is a real number, such as predicting a person’s age, the price of a house, or the temperature.\n",
    "The model tries to find the best-fitting line (or curve) that minimizes the difference between the predicted and actual values. This difference is often measured by residuals (the error terms between the predicted and actual values).\n",
    "The most common approach is to minimize the Mean Squared Error (MSE), which penalizes large errors more heavily, or the Mean Absolute Error (MAE), which treats all errors equally.**\n",
    "\n",
    "***\n",
    "## Differences:\n",
    "The main distinction between classification and regression is the type of output they predict. Classification deals with categorical outputs, where the goal is to assign labels to inputs, while regression deals with continuous numerical outputs, aiming to predict quantities or values. The algorithms and evaluation metrics differ based on the nature of the task, but many methods, like decision trees or neural networks, can be adapted for either classification or regression purposes."
   ]
  },
  {
   "cell_type": "code",
   "execution_count": null,
   "metadata": {},
   "outputs": [],
   "source": []
  }
 ],
 "metadata": {
  "kernelspec": {
   "display_name": "Python 3 (ipykernel)",
   "language": "python",
   "name": "python3"
  },
  "language_info": {
   "codemirror_mode": {
    "name": "ipython",
    "version": 3
   },
   "file_extension": ".py",
   "mimetype": "text/x-python",
   "name": "python",
   "nbconvert_exporter": "python",
   "pygments_lexer": "ipython3",
   "version": "3.11.5"
  },
  "widgets": {
   "application/vnd.jupyter.widget-state+json": {
    "state": {},
    "version_major": 2,
    "version_minor": 0
   }
  }
 },
 "nbformat": 4,
 "nbformat_minor": 4
}
