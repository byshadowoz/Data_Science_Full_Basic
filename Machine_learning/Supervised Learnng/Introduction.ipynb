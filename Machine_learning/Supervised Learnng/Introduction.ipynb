{
 "cells": [
  {
   "cell_type": "markdown",
   "metadata": {},
   "source": [
    "# Introduction to Machine Learning types\n",
    "Machine Learning types or ML types are the way in which the data will be used\n",
    "in the machine learning model. There are three types of ML types:\n",
    "## **1. Supervised Learning**:\n",
    "In this type of learning, the model is trained on labeled data\n",
    "where the correct output is already known. The model is capable to look patterns and predict the output\n",
    "### - **Classification**:\n",
    "Classification is a type of supervised learning where the model is trained to predict a categorical output\n",
    "### - **Regression**:\n",
    "Regression is a type of supervised learning where the model is trained to predict a continuous output\n",
    "### - **Neural Networks**:\n",
    "Neural Networks is a hot area right now. it is a lot of hidden layers and neurons doing classification or regression because the solution is provided\n",
    "\n",
    "### **Classification VS Regression**:\n",
    "- **Classification**:\n",
    "Classification will enable us to predict labels such as wheather condition; safe or risky; positive or negative\n",
    "- **Regression**:\n",
    "Regression will enable us to predict continuous values such as house price; stock price; temperature\n",
    "\n",
    "***"
   ]
  },
  {
   "cell_type": "code",
   "execution_count": null,
   "metadata": {},
   "outputs": [],
   "source": []
  }
 ],
 "metadata": {
  "kernelspec": {
   "display_name": "Python 3 (ipykernel)",
   "language": "python",
   "name": "python3"
  },
  "language_info": {
   "codemirror_mode": {
    "name": "ipython",
    "version": 3
   },
   "file_extension": ".py",
   "mimetype": "text/x-python",
   "name": "python",
   "nbconvert_exporter": "python",
   "pygments_lexer": "ipython3",
   "version": "3.11.5"
  },
  "widgets": {
   "application/vnd.jupyter.widget-state+json": {
    "state": {},
    "version_major": 2,
    "version_minor": 0
   }
  }
 },
 "nbformat": 4,
 "nbformat_minor": 4
}
