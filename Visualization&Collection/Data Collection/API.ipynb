{
 "cells": [
  {
   "cell_type": "markdown",
   "id": "64538b45-c2d7-49e6-b4d8-8fc5b6a066de",
   "metadata": {},
   "source": [
    "# APIs \n",
    "(all APIs are from : https://rapidapi.com/hub ).\n",
    "Let's know how collect Data from an API with differents examples.\n",
    "The main thing is covert the request into a DataFrame using differents types of Data requests and how to collect it eficiently and organized "
   ]
  },
  {
   "cell_type": "markdown",
   "id": "d34223c1-f465-4eba-8fdd-d23dd5d00291",
   "metadata": {},
   "source": [
    "## We'll request an API from zillow and we could search properties by neighborhood, city or zipcode"
   ]
  },
  {
   "cell_type": "code",
   "execution_count": 49,
   "id": "a0a66ffa-b701-47f9-be78-2e1ff3a48919",
   "metadata": {},
   "outputs": [
    {
     "name": "stdout",
     "output_type": "stream",
     "text": [
      "{'message': 'You have exceeded the MONTHLY quota for Requests on your current plan, BASIC. Upgrade your plan at https://rapidapi.com/s.mahmoud97/api/zillow56'}\n"
     ]
    }
   ],
   "source": [
    "import os\n",
    "from dotenv import load_dotenv\n",
    "import requests\n",
    "\n",
    "load_dotenv()\n",
    "\n",
    "url = \"https://zillow56.p.rapidapi.com/search\"\n",
    "x_rapid_key = os.getenv('XAPIKEY')\n",
    "\n",
    "\n",
    "querystring = {\"location\":\"houston, tx\",\"page\":\"1\",\"output\":\"json\",\"status\":\"forSale\",\"sortSelection\":\"priorityscore\",\"listing_type\":\"by_agent\",\"doz\":\"any\"}\n",
    "\n",
    "headers = {\n",
    "    \"access-control-allow-credentials\":\"true\",\n",
    "\t\"x-rapidapi-key\": x_rapid_key,\n",
    "\t\"x-rapidapi-host\": \"zillow56.p.rapidapi.com\"\n",
    "}\n",
    "\n",
    "response = requests.get(url, headers=headers, params=querystring)\n",
    "\n",
    "print(response.json())"
   ]
  },
  {
   "cell_type": "markdown",
   "id": "59618e99-fdc3-4194-ba08-a18ed5a58cfd",
   "metadata": {},
   "source": [
    "## Let's analise the structure of a response"
   ]
  },
  {
   "cell_type": "code",
   "execution_count": 50,
   "id": "3824788f-fab8-421c-b810-c426b7358878",
   "metadata": {},
   "outputs": [
    {
     "data": {
      "text/plain": [
       "dict"
      ]
     },
     "execution_count": 50,
     "metadata": {},
     "output_type": "execute_result"
    }
   ],
   "source": [
    "type(response.json())"
   ]
  },
  {
   "cell_type": "code",
   "execution_count": 43,
   "id": "ebd05fb1-a5bd-43f4-966f-9bcb7b91d485",
   "metadata": {},
   "outputs": [
    {
     "data": {
      "text/plain": [
       "dict_keys(['message'])"
      ]
     },
     "execution_count": 43,
     "metadata": {},
     "output_type": "execute_result"
    }
   ],
   "source": [
    "data = response.json()\n",
    "data.keys()"
   ]
  },
  {
   "cell_type": "code",
   "execution_count": 44,
   "id": "c1646a7d-c5ad-41c8-8c54-adda508befc8",
   "metadata": {},
   "outputs": [
    {
     "ename": "KeyError",
     "evalue": "'results'",
     "output_type": "error",
     "traceback": [
      "\u001b[0;31m---------------------------------------------------------------------------\u001b[0m",
      "\u001b[0;31mKeyError\u001b[0m                                  Traceback (most recent call last)",
      "Cell \u001b[0;32mIn[44], line 1\u001b[0m\n\u001b[0;32m----> 1\u001b[0m \u001b[43mdata\u001b[49m\u001b[43m[\u001b[49m\u001b[38;5;124;43m'\u001b[39;49m\u001b[38;5;124;43mresults\u001b[39;49m\u001b[38;5;124;43m'\u001b[39;49m\u001b[43m]\u001b[49m\n\u001b[1;32m      2\u001b[0m \u001b[38;5;28mprint\u001b[39m(\u001b[38;5;28mtype\u001b[39m(data[\u001b[38;5;124m'\u001b[39m\u001b[38;5;124mresults\u001b[39m\u001b[38;5;124m'\u001b[39m]))\n",
      "\u001b[0;31mKeyError\u001b[0m: 'results'"
     ]
    }
   ],
   "source": [
    "data['results']\n",
    "print(type(data['results']))"
   ]
  },
  {
   "cell_type": "code",
   "execution_count": 45,
   "id": "3862a101-e336-43c7-b08c-b690f6614e67",
   "metadata": {},
   "outputs": [
    {
     "data": {
      "text/plain": [
       "{'message': 'You have exceeded the MONTHLY quota for Requests on your current plan, BASIC. Upgrade your plan at https://rapidapi.com/s.mahmoud97/api/zillow56'}"
      ]
     },
     "execution_count": 45,
     "metadata": {},
     "output_type": "execute_result"
    }
   ],
   "source": [
    "data"
   ]
  },
  {
   "cell_type": "markdown",
   "id": "c6d1500d-523b-4c54-8575-9b5543341775",
   "metadata": {},
   "source": [
    "## Now we could convert into a Dataframe the data results"
   ]
  },
  {
   "cell_type": "code",
   "execution_count": 46,
   "id": "8835acfc-4082-4c2a-8d8c-51a245435121",
   "metadata": {},
   "outputs": [
    {
     "ename": "KeyError",
     "evalue": "'results'",
     "output_type": "error",
     "traceback": [
      "\u001b[0;31m---------------------------------------------------------------------------\u001b[0m",
      "\u001b[0;31mKeyError\u001b[0m                                  Traceback (most recent call last)",
      "Cell \u001b[0;32mIn[46], line 2\u001b[0m\n\u001b[1;32m      1\u001b[0m \u001b[38;5;28;01mimport\u001b[39;00m \u001b[38;5;21;01mpandas\u001b[39;00m \u001b[38;5;28;01mas\u001b[39;00m \u001b[38;5;21;01mpd\u001b[39;00m\n\u001b[0;32m----> 2\u001b[0m df \u001b[38;5;241m=\u001b[39m pd\u001b[38;5;241m.\u001b[39mDataFrame(data\u001b[38;5;241m=\u001b[39m\u001b[43mdata\u001b[49m\u001b[43m[\u001b[49m\u001b[38;5;124;43m'\u001b[39;49m\u001b[38;5;124;43mresults\u001b[39;49m\u001b[38;5;124;43m'\u001b[39;49m\u001b[43m]\u001b[49m)\n\u001b[1;32m      3\u001b[0m df\u001b[38;5;241m.\u001b[39mhead()\n",
      "\u001b[0;31mKeyError\u001b[0m: 'results'"
     ]
    }
   ],
   "source": [
    "import pandas as pd\n",
    "df = pd.DataFrame(data=data['results'])\n",
    "df.head()"
   ]
  },
  {
   "cell_type": "markdown",
   "id": "5b276e7d-6b7d-458f-a632-acf279d810e9",
   "metadata": {},
   "source": [
    "## This the more easy way to create a dataframe trought an API, but it's only one page"
   ]
  },
  {
   "cell_type": "code",
   "execution_count": 47,
   "id": "12c18ad5-18ba-485c-94e3-9edb4e123e80",
   "metadata": {},
   "outputs": [
    {
     "ename": "KeyError",
     "evalue": "'totalPages'",
     "output_type": "error",
     "traceback": [
      "\u001b[0;31m---------------------------------------------------------------------------\u001b[0m",
      "\u001b[0;31mKeyError\u001b[0m                                  Traceback (most recent call last)",
      "Cell \u001b[0;32mIn[47], line 1\u001b[0m\n\u001b[0;32m----> 1\u001b[0m \u001b[43mdata\u001b[49m\u001b[43m[\u001b[49m\u001b[38;5;124;43m'\u001b[39;49m\u001b[38;5;124;43mtotalPages\u001b[39;49m\u001b[38;5;124;43m'\u001b[39;49m\u001b[43m]\u001b[49m\n",
      "\u001b[0;31mKeyError\u001b[0m: 'totalPages'"
     ]
    }
   ],
   "source": [
    "data['totalPages']"
   ]
  },
  {
   "cell_type": "markdown",
   "id": "0ca3d361-e89f-49e5-944c-7f2f3bd2c8b9",
   "metadata": {},
   "source": [
    "## there are anothers 19 pages, so i will show you my way to add all the pages in one dataframe (not the best one but i only know this)"
   ]
  },
  {
   "cell_type": "code",
   "execution_count": 48,
   "id": "dd9c855b-c0e2-4bae-a4c4-af0073915b6b",
   "metadata": {},
   "outputs": [
    {
     "ename": "KeyError",
     "evalue": "'totalPages'",
     "output_type": "error",
     "traceback": [
      "\u001b[0;31m---------------------------------------------------------------------------\u001b[0m",
      "\u001b[0;31mKeyError\u001b[0m                                  Traceback (most recent call last)",
      "Cell \u001b[0;32mIn[48], line 1\u001b[0m\n\u001b[0;32m----> 1\u001b[0m \u001b[38;5;28;01mfor\u001b[39;00m p \u001b[38;5;129;01min\u001b[39;00m \u001b[38;5;28mrange\u001b[39m(\u001b[38;5;241m1\u001b[39m, \u001b[43mdata\u001b[49m\u001b[43m[\u001b[49m\u001b[38;5;124;43m'\u001b[39;49m\u001b[38;5;124;43mtotalPages\u001b[39;49m\u001b[38;5;124;43m'\u001b[39;49m\u001b[43m]\u001b[49m):\n\u001b[1;32m      2\u001b[0m     querystring \u001b[38;5;241m=\u001b[39m {\u001b[38;5;124m\"\u001b[39m\u001b[38;5;124mlocation\u001b[39m\u001b[38;5;124m\"\u001b[39m:\u001b[38;5;124m\"\u001b[39m\u001b[38;5;124mhouston, tx\u001b[39m\u001b[38;5;124m\"\u001b[39m,\u001b[38;5;124m\"\u001b[39m\u001b[38;5;124mpage\u001b[39m\u001b[38;5;124m\"\u001b[39m:\u001b[38;5;124mf\u001b[39m\u001b[38;5;124m\"\u001b[39m\u001b[38;5;132;01m{\u001b[39;00mp\u001b[38;5;132;01m}\u001b[39;00m\u001b[38;5;124m\"\u001b[39m,\u001b[38;5;124m\"\u001b[39m\u001b[38;5;124moutput\u001b[39m\u001b[38;5;124m\"\u001b[39m:\u001b[38;5;124m\"\u001b[39m\u001b[38;5;124mjson\u001b[39m\u001b[38;5;124m\"\u001b[39m,\u001b[38;5;124m\"\u001b[39m\u001b[38;5;124mstatus\u001b[39m\u001b[38;5;124m\"\u001b[39m:\u001b[38;5;124m\"\u001b[39m\u001b[38;5;124mforSale\u001b[39m\u001b[38;5;124m\"\u001b[39m,\u001b[38;5;124m\"\u001b[39m\u001b[38;5;124msortSelection\u001b[39m\u001b[38;5;124m\"\u001b[39m:\u001b[38;5;124m\"\u001b[39m\u001b[38;5;124mpriorityscore\u001b[39m\u001b[38;5;124m\"\u001b[39m,\u001b[38;5;124m\"\u001b[39m\u001b[38;5;124mlisting_type\u001b[39m\u001b[38;5;124m\"\u001b[39m:\u001b[38;5;124m\"\u001b[39m\u001b[38;5;124mby_agent\u001b[39m\u001b[38;5;124m\"\u001b[39m,\u001b[38;5;124m\"\u001b[39m\u001b[38;5;124mdoz\u001b[39m\u001b[38;5;124m\"\u001b[39m:\u001b[38;5;124m\"\u001b[39m\u001b[38;5;124many\u001b[39m\u001b[38;5;124m\"\u001b[39m}\n\u001b[1;32m      4\u001b[0m     response \u001b[38;5;241m=\u001b[39m requests\u001b[38;5;241m.\u001b[39mget(url, headers\u001b[38;5;241m=\u001b[39mheaders, params\u001b[38;5;241m=\u001b[39mquerystring)\n",
      "\u001b[0;31mKeyError\u001b[0m: 'totalPages'"
     ]
    }
   ],
   "source": [
    "for p in range(1, data['totalPages']):\n",
    "    querystring = {\"location\":\"houston, tx\",\"page\":f\"{p}\",\"output\":\"json\",\"status\":\"forSale\",\"sortSelection\":\"priorityscore\",\"listing_type\":\"by_agent\",\"doz\":\"any\"}\n",
    "    \n",
    "    response = requests.get(url, headers=headers, params=querystring)\n",
    "\n",
    "    data = response.json()\n",
    "    if 'df' in globals():\n",
    "        df1 = pd.DataFrame(data=data['results'])\n",
    "        df_final = pd.concat([df, df1])\n",
    "    else:\n",
    "        df = pd.DataFrame(data=data['results'])\n",
    "df_final"
   ]
  },
  {
   "cell_type": "code",
   "execution_count": null,
   "id": "93f237f5-1770-40ec-8a81-8525b9a8f78c",
   "metadata": {},
   "outputs": [],
   "source": []
  }
 ],
 "metadata": {
  "kernelspec": {
   "display_name": "analise_data",
   "language": "python",
   "name": "analise_data"
  },
  "language_info": {
   "codemirror_mode": {
    "name": "ipython",
    "version": 3
   },
   "file_extension": ".py",
   "mimetype": "text/x-python",
   "name": "python",
   "nbconvert_exporter": "python",
   "pygments_lexer": "ipython3",
   "version": "3.10.12"
  },
  "widgets": {
   "application/vnd.jupyter.widget-state+json": {
    "state": {},
    "version_major": 2,
    "version_minor": 0
   }
  }
 },
 "nbformat": 4,
 "nbformat_minor": 5
}
