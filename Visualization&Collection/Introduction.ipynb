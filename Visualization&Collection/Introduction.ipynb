{
 "cells": [
  {
   "cell_type": "markdown",
   "id": "8cb478be-eab2-4341-a426-de77e7b70aff",
   "metadata": {},
   "source": [
    "# Data Analyst for Data Science"
   ]
  },
  {
   "cell_type": "markdown",
   "id": "4a5b8441-579e-4602-8054-f1d6ef1af507",
   "metadata": {},
   "source": [
    "Data Analyst has alot of importance for Data Science and Data Analitycs so in this module not only see how to make plots but also how to find the best data to visualize, how find patterns, insights, and an importan thing... that it looks great\n",
    "***"
   ]
  },
  {
   "cell_type": "markdown",
   "id": "8509eef4-024b-494e-8795-4ffda2ba9f93",
   "metadata": {},
   "source": [
    "> i will be updating this introduccion through the time and when the module is finished this message would be eliminated"
   ]
  },
  {
   "cell_type": "markdown",
   "id": "5b28f699-5d96-41f0-a259-74dd2eae9ddb",
   "metadata": {},
   "source": [
    "# Graphs and Charts\n",
    "## Tools\n",
    "## Librares\n",
    "***\n",
    "# Data collection and Deep Clean\n",
    "CSVs, XLSX & JSON are very common and i think the most easy to understand because of pandas so i will focus on other types os data forms\n",
    "## Web Scrapping\n",
    "## APIs\n",
    "## DataBases\n",
    "***\n",
    "# Dashboards \n",
    "## Dash (from plotly)\n",
    "## tableau"
   ]
  },
  {
   "cell_type": "code",
   "execution_count": 22,
   "id": "0468fd85-26ac-4dc7-83b7-c7b19dd79c87",
   "metadata": {},
   "outputs": [
    {
     "name": "stdout",
     "output_type": "stream",
     "text": [
      "a\n"
     ]
    }
   ],
   "source": []
  },
  {
   "cell_type": "code",
   "execution_count": null,
   "id": "2f42813d-a90f-4990-b73c-d9e765ea4fbd",
   "metadata": {},
   "outputs": [],
   "source": []
  }
 ],
 "metadata": {
  "kernelspec": {
   "display_name": "Python 3 (ipykernel)",
   "language": "python",
   "name": "python3"
  },
  "language_info": {
   "codemirror_mode": {
    "name": "ipython",
    "version": 3
   },
   "file_extension": ".py",
   "mimetype": "text/x-python",
   "name": "python",
   "nbconvert_exporter": "python",
   "pygments_lexer": "ipython3",
   "version": "3.11.5"
  },
  "widgets": {
   "application/vnd.jupyter.widget-state+json": {
    "state": {},
    "version_major": 2,
    "version_minor": 0
   }
  }
 },
 "nbformat": 4,
 "nbformat_minor": 5
}
