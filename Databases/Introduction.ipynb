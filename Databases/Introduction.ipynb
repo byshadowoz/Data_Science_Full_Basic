{
 "cells": [
  {
   "cell_type": "markdown",
   "id": "d030debf-1c10-47af-ab8b-adebb157d8f5",
   "metadata": {},
   "source": [
    "# Introduction to Databases in Data Science\n",
    "***\n",
    "coming soon..."
   ]
  },
  {
   "cell_type": "code",
   "execution_count": null,
   "id": "c7531ec9-6176-42e3-b2b1-1ca8174aadc3",
   "metadata": {},
   "outputs": [],
   "source": []
  }
 ],
 "metadata": {
  "kernelspec": {
   "display_name": "Python 3 (ipykernel)",
   "language": "python",
   "name": "python3"
  },
  "language_info": {
   "codemirror_mode": {
    "name": "ipython",
    "version": 3
   },
   "file_extension": ".py",
   "mimetype": "text/x-python",
   "name": "python",
   "nbconvert_exporter": "python",
   "pygments_lexer": "ipython3",
   "version": "3.11.5"
  },
  "widgets": {
   "application/vnd.jupyter.widget-state+json": {
    "state": {},
    "version_major": 2,
    "version_minor": 0
   }
  }
 },
 "nbformat": 4,
 "nbformat_minor": 5
}
